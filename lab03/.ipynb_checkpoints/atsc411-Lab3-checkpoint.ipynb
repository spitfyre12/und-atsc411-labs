{
 "cells": [
  {
   "cell_type": "markdown",
   "id": "96f793d5-2ac9-4836-ac05-f3c56ecf72f2",
   "metadata": {},
   "source": [
    "# ATSC-411 - SYNOPTIC METEOROLOGY | LAB 3\n",
    "\n",
    "### QG-Omega: Geostrophic Adjustment and the Jet Streak Circulation"
   ]
  },
  {
   "cell_type": "markdown",
   "id": "e1ba7bf0-db6c-45d7-822c-0e227542e1a9",
   "metadata": {},
   "source": [
    "----- \n",
    "\n",
    "## IMPORT PACKAGES \n",
    "Run this cell to import Python code packages that will help us get the data, process the data, conduct math operations, and build some maps."
   ]
  },
  {
   "cell_type": "code",
   "execution_count": null,
   "id": "9f50cc27-9845-4875-92e4-4e7364c40c53",
   "metadata": {},
   "outputs": [],
   "source": [
    "from netCDF4 import Dataset\n",
    "import matplotlib.pyplot as plt\n",
    "import numpy as np"
   ]
  },
  {
   "cell_type": "markdown",
   "id": "9871fa47-0ad1-4e3a-a5f8-04efd64b3086",
   "metadata": {},
   "source": [
    "----- \n",
    "\n",
    "## READ DATA \n",
    "Read in data from idealized-jet-data.nc"
   ]
  },
  {
   "cell_type": "code",
   "execution_count": null,
   "id": "d4f3340a-cd9c-46ba-9061-b0d51857ce03",
   "metadata": {},
   "outputs": [],
   "source": [
    "nc = Dataset('idealized-jet-data.nc','r')\n",
    "\n",
    "x = nc.variables['x'][:]\n",
    "y = nc.variables['y'][:]\n",
    "p = nc.variables['p'][:]\n",
    "u_wind = nc.variables['u_wind'][:]\n",
    "\n",
    "nc.close()"
   ]
  },
  {
   "cell_type": "markdown",
   "id": "5ce49622-7f56-467a-a48b-5e1407f26c26",
   "metadata": {},
   "source": [
    "----- \n",
    "\n",
    "## PLOT THE JET \n",
    "\n",
    "We'll plot the jet from above (x-y view) and a N-S cross section (y-P view)."
   ]
  },
  {
   "cell_type": "code",
   "execution_count": null,
   "id": "959a596e-12f2-4a4a-b75d-faf32e50b779",
   "metadata": {},
   "outputs": [],
   "source": [
    "fig = plt.figure(figsize=(10,5), dpi=100)\n",
    "\n",
    "#plot x-y view at z-index 65 \n",
    "z_ind = 65\n",
    "ax1 = fig.add_subplot(1,2,1)\n",
    "ct1 = ax1.contourf(x[:,:,z_ind]/1000,y[:,:,z_ind]/1000,u_wind[:,:,z_ind],levels=np.arange(30,91),cmap='jet')\n",
    "plt.colorbar(ct1,label='U (kts)',orientation='horizontal')\n",
    "ax1.set_xlabel('x (km)')\n",
    "ax1.set_ylabel('y (km)')\n",
    "ax1.set_ylim([0,500])\n",
    "\n",
    "#plot y-z view at x-index 55\n",
    "x_ind = 55\n",
    "ax2 = fig.add_subplot(1,2,2)\n",
    "ct2 = ax2.contourf(y[:,x_ind,:]/1000,p[:,x_ind,:],u_wind[:,x_ind,:],levels=np.arange(30,91),cmap='jet')\n",
    "plt.colorbar(ct2,label='U (kts)',orientation='horizontal')\n",
    "ax2.set_xlabel('y (km)')\n",
    "ax2.set_ylabel('Pressure')\n",
    "ax2.set_ylim([700,100])\n",
    "\n",
    "plt.show()"
   ]
  },
  {
   "cell_type": "markdown",
   "id": "b08d66e2-65f1-4e79-a1fd-37e02351fd29",
   "metadata": {},
   "source": [
    "# Calculate QG-omega\n",
    "\n",
    "$$\n",
    "(\\nabla_p^2 + \\frac{f_0^2}{\\sigma}\\frac{\\partial^2}{\\partial p^2}) \\omega = -\\frac{f_0}{\\sigma}\\frac{\\partial}{\\partial p}[-\\vec{v_g}\\cdot\\nabla_p(\\zeta_g+f)]-\\frac{R}{\\sigma p}\\nabla_p^2[-\\vec{v_g}\\cdot\\nabla_p T]\n",
    "$$\n",
    "\n",
    "Thankfully, since we have no temperature data, we can ignore the thermal advection term.  We can also ignore the Coriolis term.  \n",
    "\n",
    "Instead of finding actual magnitudes, let's simplify the QG-omega equation to:\n",
    "\n",
    "$$\n",
    "-\\omega \\propto  -\\frac{\\partial}{\\partial p}[-\\vec{v_g}\\cdot\\nabla_p\\zeta_g]\n",
    "$$"
   ]
  },
  {
   "cell_type": "markdown",
   "id": "94a487cc-3af8-4510-98d3-cbd02b623183",
   "metadata": {},
   "source": [
    "### First, calculate vorticity:\n",
    "$$\n",
    "\\zeta_g = \\frac{\\partial v_g}{\\partial x} - \\frac{\\partial u_g}{\\partial y}\n",
    "$$\n",
    "\n",
    "Since there is no N-S wind:\n",
    "$$\n",
    "\\zeta_g = - \\frac{\\partial u_g}{\\partial y}\n",
    "$$\n"
   ]
  },
  {
   "cell_type": "code",
   "execution_count": null,
   "id": "af8cfd02-cad8-4573-89ac-41f87e2a6b98",
   "metadata": {},
   "outputs": [],
   "source": [
    "#find the x, y, and p step size:\n",
    "dx = x[0,1,0]-x[0,0,0]\n",
    "dy = y[1,0,0]-y[0,0,0]\n",
    "dp = (p[0,0,1]-p[0,0,0])*100 #hPa to Pa\n",
    "\n",
    "#to calculate the gradient, you can use the np.gradient function\n",
    "#to ensure that we are just examining the y-gradient, make sure to \n",
    "#set axis=0 in the function\n",
    "\n",
    "du_dy = np.gradient(STUFF_GOES_HERE,axis=0)/STUFF_GOES_HERE\n",
    "vort = -1 * STUFF_GOES_HERE\n"
   ]
  },
  {
   "cell_type": "markdown",
   "id": "90925518-d47d-4332-bbb4-56d5d64cfdf9",
   "metadata": {},
   "source": [
    "### Plot Vorticity\n",
    "Let's plot the vorticity from above to verify that it makes sense."
   ]
  },
  {
   "cell_type": "code",
   "execution_count": null,
   "id": "925b79ad-1bbc-41e8-877e-ffb289f9ed7f",
   "metadata": {},
   "outputs": [],
   "source": [
    "#plot the vorticity\n",
    "fig = plt.figure(figsize=(5,5),dpi=100)\n",
    "ax = fig.add_subplot(1,1,1)\n",
    "ct = ax.contourf(x[:,:,z_ind]/1000,y[:,:,z_ind]/1000,vort[:,:,z_ind],levels=np.linspace(-0.002,0.002,51),cmap='bwr')\n",
    "plt.colorbar(ct,label='Relative Vorticity (/s)')\n",
    "ct2 = ax.contour(x[:,:,z_ind]/1000,y[:,:,z_ind]/1000,u_wind[:,:,z_ind],colors='k',levels=np.arange(10,90,10),linewidths=0.3)\n",
    "ax.set_xlabel('X (km)')\n",
    "ax.set_ylabel('Y (km)')\n",
    "ax.set_ylim([0,500])\n",
    "plt.show()"
   ]
  },
  {
   "cell_type": "markdown",
   "id": "00552997-afd8-4675-8355-81f60e7e49d1",
   "metadata": {},
   "source": [
    "### Next, calculate vorticity advection:\n",
    "$$\n",
    "-\\vec{v_g}\\cdot\\nabla_p\\zeta_g\n",
    "$$\n",
    "\n",
    "Let's expand this:\n",
    "$$\n",
    "-\\vec{v_g}\\cdot(\\frac{\\partial\\zeta_g}{\\partial x}\\hat{i}+\\frac{\\partial\\zeta_g}{\\partial y}\\hat{j})\n",
    "$$\n",
    "\n",
    "and:\n",
    "$$\n",
    "-(u_g\\hat{i} + v_g\\hat{j})\\cdot(\\frac{\\partial\\zeta_g}{\\partial x}\\hat{i}+\\frac{\\partial\\zeta_g}{\\partial y}\\hat{j})\n",
    "$$\n",
    "\n",
    "Since there is no N-S wind, this can be simplified to:\n",
    "$$\n",
    "-u_g\\cdot\\frac{\\partial\\zeta_g}{\\partial x}\n",
    "$$\n",
    "\n",
    "To do this, we first need to find the horizontal gradient in vorticity, then multiply it by the u-wind.\n"
   ]
  },
  {
   "cell_type": "code",
   "execution_count": null,
   "id": "101d6698-4384-4096-b137-0637d54ac6d5",
   "metadata": {},
   "outputs": [],
   "source": [
    "#again, use np.gradient\n",
    "#but this time use axis=1 since we want the x-derivative\n",
    "vort_grad = np.gradient(STUFF_GOES_HERE,axis=1)/STUFF_GOES_HERE\n",
    "\n",
    "#u*gradient of vort\n",
    "vort_adv = -STUFF_GOES_HERE*STUFF_GOES_HERE"
   ]
  },
  {
   "cell_type": "markdown",
   "id": "67c5c31c-e886-440a-914d-6cf68bf44481",
   "metadata": {},
   "source": [
    "### Plot Vorticity Advection"
   ]
  },
  {
   "cell_type": "code",
   "execution_count": null,
   "id": "9d0d224f-a3bb-4c5e-94b1-27740c85d0cd",
   "metadata": {},
   "outputs": [],
   "source": [
    "fig = plt.figure(figsize=(5,5),dpi=100)\n",
    "ax = fig.add_subplot(1,1,1)\n",
    "ct = ax.contourf(x[:,:,z_ind]/1000,y[:,:,z_ind]/1000,vort_adv[:,:,z_ind],levels=np.linspace(-6E-7,6E-7,51),cmap='bwr')\n",
    "plt.colorbar(ct,label='Relative Vorticity (/s)')\n",
    "ct2 = ax.contour(x[:,:,z_ind]/1000,y[:,:,z_ind]/1000,u_wind[:,:,z_ind],colors='k',levels=np.arange(10,90,10),linewidths=0.3)\n",
    "ax.set_xlabel('X (km)')\n",
    "ax.set_ylabel('Y (km)')\n",
    "ax.set_ylim([0,500])\n",
    "plt.show()"
   ]
  },
  {
   "cell_type": "markdown",
   "id": "1264dce1-bc38-4788-8663-30b0f33cef2b",
   "metadata": {},
   "source": [
    "Finally, we can calculate the vertical gradient and find omega\n",
    "$$\n",
    "-\\omega \\propto  -\\frac{\\partial}{\\partial p}[-\\vec{v_g}\\cdot\\nabla_p\\zeta_g]\n",
    "$$"
   ]
  },
  {
   "cell_type": "code",
   "execution_count": null,
   "id": "f6ef5904-0b80-4a7b-9b98-5d081855efd7",
   "metadata": {},
   "outputs": [],
   "source": [
    "#again, use np.gradient\n",
    "#you can guess which axis=# to use \n",
    "#for a vertical gradient\n",
    "dva = -1 * np.gradient(STUFF_GOES_HERE,axis=STUFF_GOES_HERE)/STUFF_GOES_HERE\n",
    "omega = -1 * STUFF_GOES_HERE"
   ]
  },
  {
   "cell_type": "markdown",
   "id": "78bb4bce-62ff-4e73-8b45-02e3733973e1",
   "metadata": {},
   "source": [
    "### Plot Omega"
   ]
  },
  {
   "cell_type": "code",
   "execution_count": null,
   "id": "50517080-7227-43a2-ac12-1e25ad7bbd90",
   "metadata": {},
   "outputs": [],
   "source": [
    "fig = plt.figure(figsize=(5,5),dpi=100)\n",
    "ax = fig.add_subplot(1,1,1)\n",
    "ct = ax.contourf(x[:,:,z_ind]/1000,y[:,:,z_ind]/1000,omega[:,:,z_ind],levels=np.linspace(-5E-11,5E-11,51),cmap='bwr')\n",
    "plt.colorbar(ct,label='Omega')\n",
    "ct2 = ax.contour(x[:,:,z_ind]/1000,y[:,:,z_ind]/1000,u_wind[:,:,z_ind],colors='k',levels=np.arange(10,90,10),linewidths=0.3)\n",
    "ax.set_xlabel('X (km)')\n",
    "ax.set_ylabel('Y (km)')\n",
    "ax.set_ylim([0,500])\n",
    "plt.show()"
   ]
  },
  {
   "cell_type": "markdown",
   "id": "ccdf3778-3a01-4021-8bda-a6121158d970",
   "metadata": {},
   "source": [
    "# Plot Cross Section of Omega in the Entrance & Exit Regions"
   ]
  },
  {
   "cell_type": "code",
   "execution_count": null,
   "id": "560284b6-80ab-484c-a186-47a66cb51e00",
   "metadata": {},
   "outputs": [],
   "source": [
    "entrance_ind = 40\n",
    "exit_ind = 60\n",
    "\n",
    "fig = plt.figure(figsize=(10,5),dpi=100)\n",
    "ax1 = fig.add_subplot(1,2,1)\n",
    "ct = ax1.contourf(y[:,entrance_ind,:]/1000,p[:,entrance_ind,:],omega[:,entrance_ind,:],levels=np.linspace(-1.5E-10,1.5E-10,51),cmap='bwr')\n",
    "plt.colorbar(ct,label='Omega',orientation='horizontal')\n",
    "ct2 = ax1.contour(y[:,entrance_ind,]/1000,p[:,entrance_ind,:],u_wind[:,entrance_ind,:],colors='k',levels=np.arange(10,90,10),linewidths=0.3)\n",
    "ax1.set_xlabel('Y (km)')\n",
    "ax1.set_ylabel('P (hPa)')\n",
    "ax1.set_ylim([700,100])\n",
    "ax1.set_xlim([200,0])\n",
    "\n",
    "ax2 = fig.add_subplot(1,2,2)\n",
    "ct = ax2.contourf(y[:,exit_ind,:]/1000,p[:,exit_ind,:],omega[:,exit_ind,:],levels=np.linspace(-1.5E-10,1.5E-10,51),cmap='bwr')\n",
    "plt.colorbar(ct,label='Omega',orientation='horizontal')\n",
    "ct2 = ax2.contour(y[:,exit_ind,]/1000,p[:,exit_ind,:],u_wind[:,exit_ind,:],colors='k',levels=np.arange(10,90,10),linewidths=0.3)\n",
    "ax2.set_xlabel('Y (km)')\n",
    "ax2.set_ylabel('P (hPa)')\n",
    "ax2.set_ylim([700,100])\n",
    "ax2.set_xlim([200,0])\n",
    "plt.show()"
   ]
  },
  {
   "cell_type": "markdown",
   "id": "8ecf94db-c701-443d-9819-cbc74504ed5f",
   "metadata": {},
   "source": [
    "# LAB QUESTIONS"
   ]
  },
  {
   "cell_type": "markdown",
   "id": "4ac9ad48-32c7-449f-8e4e-2e59d98e6333",
   "metadata": {},
   "source": [
    "#### 1) Given an W-E oriented jet streak in the westerlies, where would you expect positive and negative vorticity?  Does this match the plot you created?\n",
    "\n",
    "#### 2) Since there are only westerly winds, does the plot of vorticity advection match what you expect?  Where is the cyclonic (positive) and anticyclonic (negative) vorticity advection?\n",
    "\n",
    "#### 3) Does the vertical wind direction cross-section match what you would expect by applying the differential vorticity advection term?  Make sure to explain all 4 velocity regions in both the entrance and exit regions.\n",
    "\n",
    "#### 4) Sketch the circular, transverse circulations around the jet streak entrance and exit regions.\n"
   ]
  }
 ],
 "metadata": {
  "kernelspec": {
   "display_name": "MPICH",
   "language": "python",
   "name": "mpich"
  },
  "language_info": {
   "codemirror_mode": {
    "name": "ipython",
    "version": 3
   },
   "file_extension": ".py",
   "mimetype": "text/x-python",
   "name": "python",
   "nbconvert_exporter": "python",
   "pygments_lexer": "ipython3",
   "version": "3.9.19"
  }
 },
 "nbformat": 4,
 "nbformat_minor": 5
}
